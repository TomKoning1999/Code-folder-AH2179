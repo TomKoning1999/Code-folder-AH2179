{
  "nbformat": 4,
  "nbformat_minor": 0,
  "metadata": {
    "colab": {
      "provenance": []
    },
    "kernelspec": {
      "name": "python3",
      "display_name": "Python 3"
    },
    "language_info": {
      "name": "python"
    }
  },
  "cells": [
    {
      "cell_type": "code",
      "execution_count": 1,
      "metadata": {
        "colab": {
          "base_uri": "https://localhost:8080/"
        },
        "id": "dM8wb3eUfOZv",
        "outputId": "c85a78d0-a7da-4e82-852d-e2a5fdf6151a"
      },
      "outputs": [
        {
          "output_type": "stream",
          "name": "stdout",
          "text": [
            "Test function for Github\n",
            "7\n",
            "5\n"
          ]
        }
      ],
      "source": [
        "print(\"Test function for Github\")\n",
        "def calc(a,b,c):\n",
        "  if a>0:\n",
        "    d = a*b+c\n",
        "  else:\n",
        "    d = b+c\n",
        "  return d\n",
        "\n",
        "print(calc(2,2,3))\n",
        "print(calc(0,2,3))\n"
      ]
    }
  ]
}