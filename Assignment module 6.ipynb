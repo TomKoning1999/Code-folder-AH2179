{
 "cells": [
  {
   "cell_type": "markdown",
   "id": "20fbc0d6",
   "metadata": {},
   "source": [
    "# Assignment module 6"
   ]
  },
  {
   "cell_type": "markdown",
   "id": "b9ed1f16",
   "metadata": {},
   "source": [
    "### Package import"
   ]
  },
  {
   "cell_type": "code",
   "execution_count": 1,
   "id": "778a9fc6",
   "metadata": {},
   "outputs": [],
   "source": [
    "import pandas as pd\n",
    "import numpy as np\n",
    "from sklearn.decomposition import PCA\n",
    "from sklearn.preprocessing import StandardScaler\n",
    "from sklearn.decomposition import KernelPCA\n",
    "import matplotlib.pyplot as plt"
   ]
  },
  {
   "cell_type": "markdown",
   "id": "c0182917",
   "metadata": {},
   "source": [
    "### Data import"
   ]
  },
  {
   "cell_type": "code",
   "execution_count": 2,
   "id": "16109c07",
   "metadata": {},
   "outputs": [],
   "source": [
    "data_df = pd.read_csv(\"dataset_exercise_5_clustering_highway_traffic.csv\",sep=\";\")\n",
    "#data_df.head()"
   ]
  },
  {
   "cell_type": "markdown",
   "id": "462bd083",
   "metadata": {},
   "source": [
    "### Data preparation"
   ]
  },
  {
   "cell_type": "code",
   "execution_count": 3,
   "id": "fa50f602",
   "metadata": {},
   "outputs": [],
   "source": [
    "# Sort the DataFrame 'data_df' by columns \"Date\" and \"Interval_5\"\n",
    "data_df.sort_values([\"Date\", \"Interval_5\"])\n",
    "# Extract unique dates from the sorted DataFrame\n",
    "days = np.unique(data_df[['Date']].values.ravel())\n",
    "# Calculate the total number of unique days\n",
    "ndays = len(days)\n",
    "# Group the DataFrame 'data_df' by the \"Date\" column\n",
    "day_subsets_df = data_df.groupby([\"Date\"])\n",
    "# Define the total number of 5-minute intervals in a day\n",
    "nintvals = 288"
   ]
  },
  {
   "cell_type": "code",
   "execution_count": 4,
   "id": "1650b212",
   "metadata": {},
   "outputs": [],
   "source": [
    "# Create a matrix 'vectorized_day_dataset' filled with NaN values\n",
    "vectorized_day_dataset = np.zeros((ndays, nintvals))\n",
    "vectorized_day_dataset.fill(np.nan)\n",
    "# Loop through each unique day\n",
    "for i in range(0, ndays):\n",
    "    # Get the DataFrame corresponding to the current day\n",
    "    df_t = day_subsets_df.get_group(days[i])\n",
    "    # Loop through each row in the current day's DataFrame\n",
    "    for j in range(len(df_t)):\n",
    "        # Get the current day's DataFrame\n",
    "        df_t = day_subsets_df.get_group(days[i])\n",
    "        # Extract the \"Interval_5\" and \"flow\" values and populate 'vectorized_day_dataset'\n",
    "        vectorized_day_dataset[i, df_t.iloc[j][\"Interval_5\"]] = df_t.iloc[j][\"flow\"]\n",
    "# Print the resulting 'vectorized_day_dataset' and the size of vector\n",
    "#print(vectorized_day_dataset)\n",
    "#print(vectorized_day_dataset.shape)"
   ]
  },
  {
   "cell_type": "code",
   "execution_count": 5,
   "id": "b60940ad",
   "metadata": {},
   "outputs": [
    {
     "name": "stdout",
     "output_type": "stream",
     "text": [
      "number of days with missing value: 28\n"
     ]
    }
   ],
   "source": [
    "# print the number of days with missing value\n",
    "nans_per_day = np.sum(np.isnan(vectorized_day_dataset),1)\n",
    "print('number of days with missing value:',np.size(np.where(nans_per_day > 0),1))"
   ]
  },
  {
   "cell_type": "code",
   "execution_count": 6,
   "id": "4b105854",
   "metadata": {},
   "outputs": [
    {
     "name": "stdout",
     "output_type": "stream",
     "text": [
      "(337, 288)\n"
     ]
    }
   ],
   "source": [
    "# Drop the days with missing valus\n",
    "vectorized_day_dataset_no_nans = vectorized_day_dataset[np.where(nans_per_day == 0)[0],:]\n",
    "# days_not_nans = days[np.where(nans_per_day == 0)[0]]\n",
    "print(vectorized_day_dataset_no_nans.shape)"
   ]
  },
  {
   "cell_type": "markdown",
   "id": "e95a417f",
   "metadata": {},
   "source": [
    "### Finding the optimal kernel PCA model for the data set"
   ]
  },
  {
   "cell_type": "markdown",
   "id": "59c5a8bf",
   "metadata": {},
   "source": [
    "Load and inspect the dataset:"
   ]
  },
  {
   "cell_type": "code",
   "execution_count": 7,
   "id": "f1f3409b",
   "metadata": {},
   "outputs": [
    {
     "data": {
      "text/html": [
       "<div>\n",
       "<style scoped>\n",
       "    .dataframe tbody tr th:only-of-type {\n",
       "        vertical-align: middle;\n",
       "    }\n",
       "\n",
       "    .dataframe tbody tr th {\n",
       "        vertical-align: top;\n",
       "    }\n",
       "\n",
       "    .dataframe thead th {\n",
       "        text-align: right;\n",
       "    }\n",
       "</style>\n",
       "<table border=\"1\" class=\"dataframe\">\n",
       "  <thead>\n",
       "    <tr style=\"text-align: right;\">\n",
       "      <th></th>\n",
       "      <th>0</th>\n",
       "      <th>1</th>\n",
       "      <th>2</th>\n",
       "      <th>3</th>\n",
       "      <th>4</th>\n",
       "      <th>5</th>\n",
       "      <th>6</th>\n",
       "      <th>7</th>\n",
       "      <th>8</th>\n",
       "      <th>9</th>\n",
       "      <th>...</th>\n",
       "      <th>278</th>\n",
       "      <th>279</th>\n",
       "      <th>280</th>\n",
       "      <th>281</th>\n",
       "      <th>282</th>\n",
       "      <th>283</th>\n",
       "      <th>284</th>\n",
       "      <th>285</th>\n",
       "      <th>286</th>\n",
       "      <th>287</th>\n",
       "    </tr>\n",
       "  </thead>\n",
       "  <tbody>\n",
       "    <tr>\n",
       "      <th>count</th>\n",
       "      <td>337.000000</td>\n",
       "      <td>337.000000</td>\n",
       "      <td>337.000000</td>\n",
       "      <td>337.000000</td>\n",
       "      <td>337.000000</td>\n",
       "      <td>337.000000</td>\n",
       "      <td>337.000000</td>\n",
       "      <td>337.000000</td>\n",
       "      <td>337.000000</td>\n",
       "      <td>337.000000</td>\n",
       "      <td>...</td>\n",
       "      <td>337.000000</td>\n",
       "      <td>337.000000</td>\n",
       "      <td>337.000000</td>\n",
       "      <td>337.000000</td>\n",
       "      <td>337.000000</td>\n",
       "      <td>337.000000</td>\n",
       "      <td>337.000000</td>\n",
       "      <td>337.000000</td>\n",
       "      <td>337.000000</td>\n",
       "      <td>337.000000</td>\n",
       "    </tr>\n",
       "    <tr>\n",
       "      <th>mean</th>\n",
       "      <td>33.314540</td>\n",
       "      <td>32.985163</td>\n",
       "      <td>32.566766</td>\n",
       "      <td>31.771513</td>\n",
       "      <td>31.545994</td>\n",
       "      <td>29.896142</td>\n",
       "      <td>28.798220</td>\n",
       "      <td>27.673591</td>\n",
       "      <td>26.836795</td>\n",
       "      <td>26.332344</td>\n",
       "      <td>...</td>\n",
       "      <td>44.919881</td>\n",
       "      <td>45.931751</td>\n",
       "      <td>44.670623</td>\n",
       "      <td>42.902077</td>\n",
       "      <td>40.703264</td>\n",
       "      <td>39.501484</td>\n",
       "      <td>37.543027</td>\n",
       "      <td>36.169139</td>\n",
       "      <td>35.952522</td>\n",
       "      <td>33.753709</td>\n",
       "    </tr>\n",
       "    <tr>\n",
       "      <th>std</th>\n",
       "      <td>15.895554</td>\n",
       "      <td>15.590837</td>\n",
       "      <td>15.211089</td>\n",
       "      <td>15.052824</td>\n",
       "      <td>14.602423</td>\n",
       "      <td>14.448942</td>\n",
       "      <td>14.522794</td>\n",
       "      <td>13.478609</td>\n",
       "      <td>13.888804</td>\n",
       "      <td>13.761443</td>\n",
       "      <td>...</td>\n",
       "      <td>19.550670</td>\n",
       "      <td>19.604682</td>\n",
       "      <td>18.469283</td>\n",
       "      <td>18.352514</td>\n",
       "      <td>18.369741</td>\n",
       "      <td>18.716577</td>\n",
       "      <td>17.610673</td>\n",
       "      <td>17.948285</td>\n",
       "      <td>18.085877</td>\n",
       "      <td>16.511590</td>\n",
       "    </tr>\n",
       "    <tr>\n",
       "      <th>min</th>\n",
       "      <td>5.000000</td>\n",
       "      <td>8.000000</td>\n",
       "      <td>6.000000</td>\n",
       "      <td>3.000000</td>\n",
       "      <td>6.000000</td>\n",
       "      <td>7.000000</td>\n",
       "      <td>6.000000</td>\n",
       "      <td>7.000000</td>\n",
       "      <td>3.000000</td>\n",
       "      <td>8.000000</td>\n",
       "      <td>...</td>\n",
       "      <td>4.000000</td>\n",
       "      <td>4.000000</td>\n",
       "      <td>2.000000</td>\n",
       "      <td>2.000000</td>\n",
       "      <td>2.000000</td>\n",
       "      <td>2.000000</td>\n",
       "      <td>1.000000</td>\n",
       "      <td>1.000000</td>\n",
       "      <td>1.000000</td>\n",
       "      <td>2.000000</td>\n",
       "    </tr>\n",
       "    <tr>\n",
       "      <th>25%</th>\n",
       "      <td>22.000000</td>\n",
       "      <td>22.000000</td>\n",
       "      <td>22.000000</td>\n",
       "      <td>20.000000</td>\n",
       "      <td>21.000000</td>\n",
       "      <td>19.000000</td>\n",
       "      <td>18.000000</td>\n",
       "      <td>19.000000</td>\n",
       "      <td>17.000000</td>\n",
       "      <td>17.000000</td>\n",
       "      <td>...</td>\n",
       "      <td>31.000000</td>\n",
       "      <td>31.000000</td>\n",
       "      <td>32.000000</td>\n",
       "      <td>30.000000</td>\n",
       "      <td>29.000000</td>\n",
       "      <td>26.000000</td>\n",
       "      <td>24.000000</td>\n",
       "      <td>23.000000</td>\n",
       "      <td>23.000000</td>\n",
       "      <td>22.000000</td>\n",
       "    </tr>\n",
       "    <tr>\n",
       "      <th>50%</th>\n",
       "      <td>29.000000</td>\n",
       "      <td>29.000000</td>\n",
       "      <td>29.000000</td>\n",
       "      <td>29.000000</td>\n",
       "      <td>28.000000</td>\n",
       "      <td>26.000000</td>\n",
       "      <td>26.000000</td>\n",
       "      <td>25.000000</td>\n",
       "      <td>23.000000</td>\n",
       "      <td>23.000000</td>\n",
       "      <td>...</td>\n",
       "      <td>43.000000</td>\n",
       "      <td>44.000000</td>\n",
       "      <td>42.000000</td>\n",
       "      <td>41.000000</td>\n",
       "      <td>38.000000</td>\n",
       "      <td>36.000000</td>\n",
       "      <td>34.000000</td>\n",
       "      <td>32.000000</td>\n",
       "      <td>33.000000</td>\n",
       "      <td>31.000000</td>\n",
       "    </tr>\n",
       "    <tr>\n",
       "      <th>75%</th>\n",
       "      <td>41.000000</td>\n",
       "      <td>42.000000</td>\n",
       "      <td>40.000000</td>\n",
       "      <td>40.000000</td>\n",
       "      <td>39.000000</td>\n",
       "      <td>38.000000</td>\n",
       "      <td>36.000000</td>\n",
       "      <td>34.000000</td>\n",
       "      <td>32.000000</td>\n",
       "      <td>32.000000</td>\n",
       "      <td>...</td>\n",
       "      <td>58.000000</td>\n",
       "      <td>59.000000</td>\n",
       "      <td>55.000000</td>\n",
       "      <td>54.000000</td>\n",
       "      <td>50.000000</td>\n",
       "      <td>48.000000</td>\n",
       "      <td>46.000000</td>\n",
       "      <td>45.000000</td>\n",
       "      <td>46.000000</td>\n",
       "      <td>42.000000</td>\n",
       "    </tr>\n",
       "    <tr>\n",
       "      <th>max</th>\n",
       "      <td>101.000000</td>\n",
       "      <td>83.000000</td>\n",
       "      <td>92.000000</td>\n",
       "      <td>81.000000</td>\n",
       "      <td>83.000000</td>\n",
       "      <td>78.000000</td>\n",
       "      <td>73.000000</td>\n",
       "      <td>109.000000</td>\n",
       "      <td>91.000000</td>\n",
       "      <td>121.000000</td>\n",
       "      <td>...</td>\n",
       "      <td>107.000000</td>\n",
       "      <td>101.000000</td>\n",
       "      <td>103.000000</td>\n",
       "      <td>104.000000</td>\n",
       "      <td>103.000000</td>\n",
       "      <td>115.000000</td>\n",
       "      <td>101.000000</td>\n",
       "      <td>130.000000</td>\n",
       "      <td>129.000000</td>\n",
       "      <td>117.000000</td>\n",
       "    </tr>\n",
       "  </tbody>\n",
       "</table>\n",
       "<p>8 rows × 288 columns</p>\n",
       "</div>"
      ],
      "text/plain": [
       "              0           1           2           3           4           5    \\\n",
       "count  337.000000  337.000000  337.000000  337.000000  337.000000  337.000000   \n",
       "mean    33.314540   32.985163   32.566766   31.771513   31.545994   29.896142   \n",
       "std     15.895554   15.590837   15.211089   15.052824   14.602423   14.448942   \n",
       "min      5.000000    8.000000    6.000000    3.000000    6.000000    7.000000   \n",
       "25%     22.000000   22.000000   22.000000   20.000000   21.000000   19.000000   \n",
       "50%     29.000000   29.000000   29.000000   29.000000   28.000000   26.000000   \n",
       "75%     41.000000   42.000000   40.000000   40.000000   39.000000   38.000000   \n",
       "max    101.000000   83.000000   92.000000   81.000000   83.000000   78.000000   \n",
       "\n",
       "              6           7           8           9    ...         278  \\\n",
       "count  337.000000  337.000000  337.000000  337.000000  ...  337.000000   \n",
       "mean    28.798220   27.673591   26.836795   26.332344  ...   44.919881   \n",
       "std     14.522794   13.478609   13.888804   13.761443  ...   19.550670   \n",
       "min      6.000000    7.000000    3.000000    8.000000  ...    4.000000   \n",
       "25%     18.000000   19.000000   17.000000   17.000000  ...   31.000000   \n",
       "50%     26.000000   25.000000   23.000000   23.000000  ...   43.000000   \n",
       "75%     36.000000   34.000000   32.000000   32.000000  ...   58.000000   \n",
       "max     73.000000  109.000000   91.000000  121.000000  ...  107.000000   \n",
       "\n",
       "              279         280         281         282         283         284  \\\n",
       "count  337.000000  337.000000  337.000000  337.000000  337.000000  337.000000   \n",
       "mean    45.931751   44.670623   42.902077   40.703264   39.501484   37.543027   \n",
       "std     19.604682   18.469283   18.352514   18.369741   18.716577   17.610673   \n",
       "min      4.000000    2.000000    2.000000    2.000000    2.000000    1.000000   \n",
       "25%     31.000000   32.000000   30.000000   29.000000   26.000000   24.000000   \n",
       "50%     44.000000   42.000000   41.000000   38.000000   36.000000   34.000000   \n",
       "75%     59.000000   55.000000   54.000000   50.000000   48.000000   46.000000   \n",
       "max    101.000000  103.000000  104.000000  103.000000  115.000000  101.000000   \n",
       "\n",
       "              285         286         287  \n",
       "count  337.000000  337.000000  337.000000  \n",
       "mean    36.169139   35.952522   33.753709  \n",
       "std     17.948285   18.085877   16.511590  \n",
       "min      1.000000    1.000000    2.000000  \n",
       "25%     23.000000   23.000000   22.000000  \n",
       "50%     32.000000   33.000000   31.000000  \n",
       "75%     45.000000   46.000000   42.000000  \n",
       "max    130.000000  129.000000  117.000000  \n",
       "\n",
       "[8 rows x 288 columns]"
      ]
     },
     "execution_count": 7,
     "metadata": {},
     "output_type": "execute_result"
    }
   ],
   "source": [
    "data = pd.DataFrame(vectorized_day_dataset_no_nans)\n",
    "data.head()  # Display the first few rows\n",
    "data.describe()"
   ]
  },
  {
   "cell_type": "markdown",
   "id": "47251c28",
   "metadata": {},
   "source": [
    "Standardize the data:"
   ]
  },
  {
   "cell_type": "code",
   "execution_count": 8,
   "id": "1aa33ec9",
   "metadata": {},
   "outputs": [],
   "source": [
    "scaler = StandardScaler()\n",
    "X_normalized = scaler.fit_transform(data)"
   ]
  },
  {
   "cell_type": "markdown",
   "id": "eb4fe94f",
   "metadata": {},
   "source": [
    "Fit the kernel PCA models and find summary statistcs for the reconstruction error with each model:"
   ]
  },
  {
   "cell_type": "code",
   "execution_count": 9,
   "id": "48664095",
   "metadata": {},
   "outputs": [
    {
     "data": {
      "text/html": [
       "<div>\n",
       "<style scoped>\n",
       "    .dataframe tbody tr th:only-of-type {\n",
       "        vertical-align: middle;\n",
       "    }\n",
       "\n",
       "    .dataframe tbody tr th {\n",
       "        vertical-align: top;\n",
       "    }\n",
       "\n",
       "    .dataframe thead th {\n",
       "        text-align: right;\n",
       "    }\n",
       "</style>\n",
       "<table border=\"1\" class=\"dataframe\">\n",
       "  <thead>\n",
       "    <tr style=\"text-align: right;\">\n",
       "      <th></th>\n",
       "      <th>linear</th>\n",
       "      <th>rbf</th>\n",
       "      <th>poly</th>\n",
       "      <th>sigmoid</th>\n",
       "    </tr>\n",
       "  </thead>\n",
       "  <tbody>\n",
       "    <tr>\n",
       "      <th>count</th>\n",
       "      <td>337.000000</td>\n",
       "      <td>337.000000</td>\n",
       "      <td>3.370000e+02</td>\n",
       "      <td>337.000000</td>\n",
       "    </tr>\n",
       "    <tr>\n",
       "      <th>mean</th>\n",
       "      <td>0.213094</td>\n",
       "      <td>0.426757</td>\n",
       "      <td>2.529534e-01</td>\n",
       "      <td>0.497852</td>\n",
       "    </tr>\n",
       "    <tr>\n",
       "      <th>std</th>\n",
       "      <td>0.105833</td>\n",
       "      <td>0.770605</td>\n",
       "      <td>1.718463e-01</td>\n",
       "      <td>0.446031</td>\n",
       "    </tr>\n",
       "    <tr>\n",
       "      <th>min</th>\n",
       "      <td>0.083846</td>\n",
       "      <td>0.124759</td>\n",
       "      <td>6.876123e-10</td>\n",
       "      <td>0.145080</td>\n",
       "    </tr>\n",
       "    <tr>\n",
       "      <th>25%</th>\n",
       "      <td>0.138327</td>\n",
       "      <td>0.177562</td>\n",
       "      <td>1.536634e-01</td>\n",
       "      <td>0.312102</td>\n",
       "    </tr>\n",
       "    <tr>\n",
       "      <th>50%</th>\n",
       "      <td>0.173123</td>\n",
       "      <td>0.237592</td>\n",
       "      <td>1.997788e-01</td>\n",
       "      <td>0.388091</td>\n",
       "    </tr>\n",
       "    <tr>\n",
       "      <th>75%</th>\n",
       "      <td>0.262098</td>\n",
       "      <td>0.379077</td>\n",
       "      <td>2.971163e-01</td>\n",
       "      <td>0.532215</td>\n",
       "    </tr>\n",
       "    <tr>\n",
       "      <th>max</th>\n",
       "      <td>0.692111</td>\n",
       "      <td>7.095401</td>\n",
       "      <td>1.340556e+00</td>\n",
       "      <td>4.146123</td>\n",
       "    </tr>\n",
       "  </tbody>\n",
       "</table>\n",
       "</div>"
      ],
      "text/plain": [
       "           linear         rbf          poly     sigmoid\n",
       "count  337.000000  337.000000  3.370000e+02  337.000000\n",
       "mean     0.213094    0.426757  2.529534e-01    0.497852\n",
       "std      0.105833    0.770605  1.718463e-01    0.446031\n",
       "min      0.083846    0.124759  6.876123e-10    0.145080\n",
       "25%      0.138327    0.177562  1.536634e-01    0.312102\n",
       "50%      0.173123    0.237592  1.997788e-01    0.388091\n",
       "75%      0.262098    0.379077  2.971163e-01    0.532215\n",
       "max      0.692111    7.095401  1.340556e+00    4.146123"
      ]
     },
     "execution_count": 9,
     "metadata": {},
     "output_type": "execute_result"
    }
   ],
   "source": [
    "kernel_list = ['linear', 'rbf', 'poly', 'sigmoid']\n",
    "\n",
    "df_kernel_pca_results = pd.DataFrame()\n",
    "for i in kernel_list:\n",
    "    kpca = KernelPCA(kernel=i, n_components=10, fit_inverse_transform=True)\n",
    "    X_kpca = kpca.fit_transform(X_normalized)\n",
    "    X_reconstructed = kpca.inverse_transform(X_kpca)\n",
    "    reconstruction_error = np.mean(np.square(X_normalized - X_reconstructed), axis=1)\n",
    "    df_kernel_pca_results[i] = reconstruction_error\n",
    "    \n",
    "df_kernel_pca_results.describe()"
   ]
  },
  {
   "cell_type": "markdown",
   "id": "bef4af01",
   "metadata": {},
   "source": [
    "### Baseline PCA model"
   ]
  },
  {
   "cell_type": "markdown",
   "id": "586fa724",
   "metadata": {},
   "source": [
    "Load the dataset again into a DataFrame:"
   ]
  },
  {
   "cell_type": "code",
   "execution_count": 10,
   "id": "7c3157ff",
   "metadata": {},
   "outputs": [],
   "source": [
    "data_base = pd.DataFrame(vectorized_day_dataset_no_nans)"
   ]
  },
  {
   "cell_type": "markdown",
   "id": "ddbedf75",
   "metadata": {},
   "source": [
    "Standardize the data:"
   ]
  },
  {
   "cell_type": "code",
   "execution_count": 11,
   "id": "9bf743b9",
   "metadata": {},
   "outputs": [],
   "source": [
    "scaler = StandardScaler()\n",
    "data_normalized = scaler.fit_transform(data_base)\n",
    "#data_normalized"
   ]
  },
  {
   "cell_type": "markdown",
   "id": "b80f96ff",
   "metadata": {},
   "source": [
    "Fit the PCA transform model, calculate the reconstruction error and compare with kernel PCA models:"
   ]
  },
  {
   "cell_type": "code",
   "execution_count": 12,
   "id": "b820fdab",
   "metadata": {},
   "outputs": [
    {
     "data": {
      "text/html": [
       "<div>\n",
       "<style scoped>\n",
       "    .dataframe tbody tr th:only-of-type {\n",
       "        vertical-align: middle;\n",
       "    }\n",
       "\n",
       "    .dataframe tbody tr th {\n",
       "        vertical-align: top;\n",
       "    }\n",
       "\n",
       "    .dataframe thead th {\n",
       "        text-align: right;\n",
       "    }\n",
       "</style>\n",
       "<table border=\"1\" class=\"dataframe\">\n",
       "  <thead>\n",
       "    <tr style=\"text-align: right;\">\n",
       "      <th></th>\n",
       "      <th>linear</th>\n",
       "      <th>rbf</th>\n",
       "      <th>poly</th>\n",
       "      <th>sigmoid</th>\n",
       "      <th>PCA</th>\n",
       "    </tr>\n",
       "  </thead>\n",
       "  <tbody>\n",
       "    <tr>\n",
       "      <th>count</th>\n",
       "      <td>337.000000</td>\n",
       "      <td>337.000000</td>\n",
       "      <td>3.370000e+02</td>\n",
       "      <td>337.000000</td>\n",
       "      <td>337.000000</td>\n",
       "    </tr>\n",
       "    <tr>\n",
       "      <th>mean</th>\n",
       "      <td>0.213094</td>\n",
       "      <td>0.426757</td>\n",
       "      <td>2.529534e-01</td>\n",
       "      <td>0.497852</td>\n",
       "      <td>0.213094</td>\n",
       "    </tr>\n",
       "    <tr>\n",
       "      <th>std</th>\n",
       "      <td>0.105833</td>\n",
       "      <td>0.770605</td>\n",
       "      <td>1.718463e-01</td>\n",
       "      <td>0.446031</td>\n",
       "      <td>0.105833</td>\n",
       "    </tr>\n",
       "    <tr>\n",
       "      <th>min</th>\n",
       "      <td>0.083846</td>\n",
       "      <td>0.124759</td>\n",
       "      <td>6.876123e-10</td>\n",
       "      <td>0.145080</td>\n",
       "      <td>0.083846</td>\n",
       "    </tr>\n",
       "    <tr>\n",
       "      <th>25%</th>\n",
       "      <td>0.138327</td>\n",
       "      <td>0.177562</td>\n",
       "      <td>1.536634e-01</td>\n",
       "      <td>0.312102</td>\n",
       "      <td>0.138327</td>\n",
       "    </tr>\n",
       "    <tr>\n",
       "      <th>50%</th>\n",
       "      <td>0.173123</td>\n",
       "      <td>0.237592</td>\n",
       "      <td>1.997788e-01</td>\n",
       "      <td>0.388091</td>\n",
       "      <td>0.173123</td>\n",
       "    </tr>\n",
       "    <tr>\n",
       "      <th>75%</th>\n",
       "      <td>0.262098</td>\n",
       "      <td>0.379077</td>\n",
       "      <td>2.971163e-01</td>\n",
       "      <td>0.532215</td>\n",
       "      <td>0.262098</td>\n",
       "    </tr>\n",
       "    <tr>\n",
       "      <th>max</th>\n",
       "      <td>0.692111</td>\n",
       "      <td>7.095401</td>\n",
       "      <td>1.340556e+00</td>\n",
       "      <td>4.146123</td>\n",
       "      <td>0.692111</td>\n",
       "    </tr>\n",
       "  </tbody>\n",
       "</table>\n",
       "</div>"
      ],
      "text/plain": [
       "           linear         rbf          poly     sigmoid         PCA\n",
       "count  337.000000  337.000000  3.370000e+02  337.000000  337.000000\n",
       "mean     0.213094    0.426757  2.529534e-01    0.497852    0.213094\n",
       "std      0.105833    0.770605  1.718463e-01    0.446031    0.105833\n",
       "min      0.083846    0.124759  6.876123e-10    0.145080    0.083846\n",
       "25%      0.138327    0.177562  1.536634e-01    0.312102    0.138327\n",
       "50%      0.173123    0.237592  1.997788e-01    0.388091    0.173123\n",
       "75%      0.262098    0.379077  2.971163e-01    0.532215    0.262098\n",
       "max      0.692111    7.095401  1.340556e+00    4.146123    0.692111"
      ]
     },
     "execution_count": 12,
     "metadata": {},
     "output_type": "execute_result"
    }
   ],
   "source": [
    "pca = PCA(n_components=10)  # Adjust the number of components (dimensions) as needed\n",
    "data_pca = pca.fit_transform(data_normalized)\n",
    "pca_reconstructed = pca.inverse_transform(data_pca)\n",
    "reconstruction_error_pca = np.mean(np.square(data_normalized - pca_reconstructed), axis=1)\n",
    "\n",
    "df_kernel_pca_results[\"PCA\"] = reconstruction_error_pca   \n",
    "df_kernel_pca_results.describe()\n"
   ]
  },
  {
   "cell_type": "markdown",
   "id": "720966b5",
   "metadata": {},
   "source": [
    "Assess the PCA model with the explained variance ratio:"
   ]
  },
  {
   "cell_type": "code",
   "execution_count": 13,
   "id": "3ac1072c",
   "metadata": {},
   "outputs": [
    {
     "name": "stdout",
     "output_type": "stream",
     "text": [
      "Explained Variance Ratio: [0.31725246 0.19340224 0.08298293 0.05444537 0.04555043 0.03011985\n",
      " 0.02071443 0.01585592 0.01430133 0.01228154]\n",
      "0.7869064977482033\n"
     ]
    }
   ],
   "source": [
    "explained_variance = pca.explained_variance_ratio_\n",
    "print(f'Explained Variance Ratio: {explained_variance}')\n",
    "print(sum(explained_variance))"
   ]
  },
  {
   "cell_type": "markdown",
   "id": "97a71b13",
   "metadata": {},
   "source": [
    "Stability analysis:"
   ]
  },
  {
   "cell_type": "code",
   "execution_count": 14,
   "id": "19de0b6c",
   "metadata": {},
   "outputs": [
    {
     "name": "stdout",
     "output_type": "stream",
     "text": [
      "Run 1 - Explained Variance Ratio: [0.47369756 0.15849567 0.08711778 0.04686554 0.02320975 0.02266584\n",
      " 0.01382631 0.01221682 0.01077637 0.00902694]\n",
      "Run 2 - Explained Variance Ratio: [0.50177772 0.13530229 0.08228354 0.04658337 0.02299287 0.02247112\n",
      " 0.01391738 0.01259265 0.01005036 0.00878583]\n",
      "Run 3 - Explained Variance Ratio: [0.50788343 0.13299226 0.07574785 0.04841855 0.02595031 0.02003242\n",
      " 0.0137655  0.01176733 0.00989835 0.00918958]\n",
      "Run 4 - Explained Variance Ratio: [0.5008952  0.13479954 0.08621678 0.04688236 0.02279695 0.02071595\n",
      " 0.01369227 0.01255675 0.01072285 0.00889272]\n",
      "Run 5 - Explained Variance Ratio: [0.49531268 0.13934703 0.08284148 0.0429951  0.02369344 0.02324904\n",
      " 0.0143492  0.01332966 0.0104471  0.00897057]\n",
      "Run 6 - Explained Variance Ratio: [0.49192865 0.13242282 0.07630275 0.04936239 0.02790919 0.02323954\n",
      " 0.01468175 0.01261487 0.01041482 0.00946167]\n",
      "Run 7 - Explained Variance Ratio: [0.49207948 0.13607955 0.07675853 0.05041964 0.0248544  0.02346216\n",
      " 0.01420956 0.01340419 0.01067518 0.00939098]\n",
      "Run 8 - Explained Variance Ratio: [0.47744639 0.14099672 0.08442144 0.04924516 0.02696272 0.02190331\n",
      " 0.01456577 0.01342323 0.01074311 0.00947523]\n",
      "Run 9 - Explained Variance Ratio: [0.49500897 0.13465753 0.08261135 0.05092205 0.02697711 0.02045208\n",
      " 0.01430003 0.01233828 0.01052563 0.00919768]\n",
      "Run 10 - Explained Variance Ratio: [0.4596701  0.16153439 0.08400522 0.04838948 0.02727993 0.02387789\n",
      " 0.01547202 0.01344141 0.01062795 0.00968161]\n"
     ]
    }
   ],
   "source": [
    "num_runs = 10  # Number of times to run PCA with different random seeds\n",
    "\n",
    "prop_data_used = 0.8 # Define the proportion of data to use in each iteration (e.g., 80%)\n",
    "\n",
    "for i in range(num_runs):\n",
    "    # Randomly select a subset of the data\n",
    "    prop_data_used\n",
    "    subset_indices = np.random.choice(data_base.shape[0], size=int(prop_data_used * data_base.shape[0]), replace=False)\n",
    "    subset_data = data_base.loc[subset_indices]\n",
    "    # Fit PCA on the subset\n",
    "    pca = PCA(n_components=10)  # Change random_state for each run\n",
    "    X_pca = pca.fit_transform(subset_data)\n",
    "    \n",
    "    explained_variance = pca.explained_variance_ratio_\n",
    "    print(f'Run {i+1} - Explained Variance Ratio: {explained_variance}')"
   ]
  },
  {
   "cell_type": "markdown",
   "id": "c18752c3",
   "metadata": {},
   "source": [
    "Plot for the number of components:"
   ]
  },
  {
   "cell_type": "code",
   "execution_count": 15,
   "id": "1ea1e710",
   "metadata": {},
   "outputs": [
    {
     "data": {
      "image/png": "[encoded data removed]",
      "text/plain": [
       "<Figure size 640x480 with 1 Axes>"
      ]
     },
     "metadata": {},
     "output_type": "display_data"
    }
   ],
   "source": [
    "y_axis_plot = []\n",
    "for i in range(1, 289):\n",
    "    pca_plot = PCA(n_components=i)\n",
    "    data_pca_plot = pca_plot.fit_transform(data_normalized)\n",
    "    pca_reconstructed_plot = pca_plot.inverse_transform(data_pca_plot)\n",
    "    reconstruction_error_pca_plot = np.mean(np.square(data_normalized - pca_reconstructed_plot), axis=1)\n",
    "    y_axis_plot.append(np.mean(reconstruction_error_pca_plot))\n",
    "\n",
    "plt.plot(range(1, 289), y_axis_plot)\n",
    "plt.title('Reconstruction error for PCA')\n",
    "plt.xlabel('Components')\n",
    "plt.ylabel('Reconstruction error')\n",
    "plt.xlim(-5,295)\n",
    "plt.show()   "
   ]
  }
 ],
 "metadata": {
  "kernelspec": {
   "display_name": "Python 3 (ipykernel)",
   "language": "python",
   "name": "python3"
  },
  "language_info": {
   "codemirror_mode": {
    "name": "ipython",
    "version": 3
   },
   "file_extension": ".py",
   "mimetype": "text/x-python",
   "name": "python",
   "nbconvert_exporter": "python",
   "pygments_lexer": "ipython3",
   "version": "3.11.3"
  }
 },
 "nbformat": 4,
 "nbformat_minor": 5
}
